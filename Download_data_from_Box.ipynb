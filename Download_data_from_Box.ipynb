{
  "nbformat": 4,
  "nbformat_minor": 0,
  "metadata": {
    "colab": {
      "provenance": [],
      "authorship_tag": "ABX9TyOk54q9HKc8T+VKYqRr5o3B",
      "include_colab_link": true
    },
    "kernelspec": {
      "name": "python3",
      "display_name": "Python 3"
    },
    "language_info": {
      "name": "python"
    }
  },
  "cells": [
    {
      "cell_type": "markdown",
      "metadata": {
        "id": "view-in-github",
        "colab_type": "text"
      },
      "source": [
        "<a href=\"https://colab.research.google.com/github/Naybellez/Classification/blob/DS_analysis/Download_data_from_Box.ipynb\" target=\"_parent\"><img src=\"https://colab.research.google.com/assets/colab-badge.svg\" alt=\"Open In Colab\"/></a>"
      ]
    },
    {
      "cell_type": "code",
      "execution_count": null,
      "metadata": {
        "id": "pUBojNG77RNZ"
      },
      "outputs": [],
      "source": [
        "from boxsdk import OAuth2, Client"
      ]
    },
    {
      "cell_type": "code",
      "source": [
        "# set up the authication\n",
        "\n",
        "oauth =OAuth2(\n",
        "    client_id= 'hw534w4beg3mscd8v265vpkk8ndzc5y1',\n",
        "    client_secret = 'nmL4fcHjb2drntVJxGSqQvjt19t0hIlu',\n",
        "\n",
        "    access_token='peeNgYwYGush1YZx3HRtdzqVcxoF986v'\n",
        "    )\n",
        "\n",
        "client = Client(oauth)\n",
        "user = client.user().get()\n",
        "print('Current User: ', user.id)"
      ],
      "metadata": {
        "id": "HZHQsklm7il6"
      },
      "execution_count": null,
      "outputs": []
    },
    {
      "cell_type": "code",
      "source": [
        "# download single file\n",
        "folderID = '205117553143'\n",
        "\n",
        "folder = client.folder(folder_id= folderID).get()\n",
        "items = client.folder(folder_id=folderID).get_items()\n",
        "\n",
        "def download_files(dataFolder, file_id):\n",
        "      for idx, item in enumerate(dataFolder):\n",
        "\n",
        "\n",
        "          if file_id in item.name.lower():\n",
        "              print('Idx', idx)\n",
        "\n",
        "              item_content = client.file(item.id).get()\n",
        "              with open(os.path.join('/content/drive/MyDrive/IDSW',item.name), 'wb') as open_file:\n",
        "                item_content.download_to(open_file)\n",
        "                open_file.close()\n",
        "\n",
        "download_files(items,'210623')"
      ],
      "metadata": {
        "id": "zr19vVHL7kZy"
      },
      "execution_count": null,
      "outputs": []
    },
    {
      "cell_type": "code",
      "source": [
        "# download all files\n",
        "\n",
        "folderID = '205117553143'\n",
        "\n",
        "folder = client.folder(folder_id= folderID).get()\n",
        "\n",
        "print(f'Folder \"{folder.name}\" has {folder.item_collection[\"total_count\"]} items in it')\n",
        "\n",
        "items = client.folder(folder_id=folderID).get_items()\n",
        "\n",
        "def labelData(dataFolder):\n",
        "  files = []\n",
        "  for idx, item in enumerate(dataFolder):\n",
        "      #print(f'{item.type.capitalize()} {item.id} is named \"{item.name}\"', idx)\n",
        "\n",
        "      item_content = client.file(item.id).get()\n",
        "      #print('FIle', file_id)\n",
        "\n",
        "\n",
        "      # download files\n",
        "\n",
        "      ######  ----- Potentially this can be altered to avoid item_content.download_to(open_file) as it is quite a slow process\n",
        "      #####         And all that's happening here is getting out labels. don't necessarily need to download right yet, just need to get\n",
        "      ###           the filenames.\n",
        "\n",
        "      ##            Gosh, mabs I was wrong and this is needed later. potench ignore.\n",
        "      #if '260623' in item.name.lower():\n",
        "\n",
        "      print('Idx')\n",
        "\n",
        "      with open(os.path.join('/content/drive/MyDrive/IDSW',item.name), 'wb') as open_file:\n",
        "        item_content.download_to(open_file)\n",
        "        open_file.close()\n",
        "\n",
        "      # label and file name added to list dict\n",
        "      if item.name[0:4] == 'IDSW':\n",
        "        if 'test' not in item.name.lower():\n",
        "            if item.name[6] == '1':\n",
        "                files.append({'label': 0, 'file_name' : item.name})\n",
        "            if item.name[6] == '2':\n",
        "                files.append({'label': 1, 'file_name' : item.name})\n",
        "            if item.name[6] =='3':\n",
        "                files.append({'label': 2, 'file_name' : item.name})\n",
        "            if item.name[6] =='4':\n",
        "                files.append({'label': 3, 'file_name' : item.name})\n",
        "            if item.name[6] =='5':\n",
        "                files.append({'label': 4, 'file_name' : item.name})\n",
        "            if item.name[6] =='6':\n",
        "                files.append({'label': 5, 'file_name' : item.name})\n",
        "            if item.name[6] =='7':\n",
        "                files.append({'label': 6, 'file_name' : item.name})\n",
        "            if item.name[6] =='8':\n",
        "                files.append({'label': 7, 'file_name' : item.name})\n",
        "            if item.name[6] =='9':\n",
        "                files.append({'label': 8, 'file_name' : item.name})\n",
        "            if item.name[6] =='10':\n",
        "                files.append({'label': 9, 'file_name' : item.name})\n",
        "            if item.name[6] =='11':\n",
        "                files.append({'label': 10, 'file_name' : item.name})\n",
        "  else:\n",
        "        # check for any missed item\n",
        "        print(item.name, 'xxxxxxxxxxxxxx')\n",
        "\n",
        "  return files\n",
        "\n",
        "# put file names in list\n",
        "# load files when needed"
      ],
      "metadata": {
        "id": "6_YDishG8BcD"
      },
      "execution_count": null,
      "outputs": []
    },
    {
      "cell_type": "code",
      "source": [
        "files = labelData(items)"
      ],
      "metadata": {
        "id": "-lTqo8Lp8Fjz"
      },
      "execution_count": null,
      "outputs": []
    },
    {
      "cell_type": "code",
      "source": [
        "# colab code\n",
        "# from local dir, get images and labels into memory in lists for later traintestsplit\n",
        "\n",
        "file_path = r'/content/drive/MyDrive/IDSW/'\n",
        "\n",
        "labels= []\n",
        "images = []\n",
        "for file in os.listdir(file_path):\n",
        "    if file[0:4] == 'IDSW':\n",
        "        i=int(file[5:7]) -1\n",
        "        i = str(i)\n",
        "        labels.append(i)\n",
        "\n",
        "for i in os.listdir(file_path):\n",
        "    if i[0:4] == 'IDSW':\n",
        "        j=file_path+i\n",
        "        images.append(j)\n",
        "\n",
        "label_arr =np.array(labels)\n",
        "image_arr = np.array(images)"
      ],
      "metadata": {
        "id": "vZaML-yM8J2a"
      },
      "execution_count": null,
      "outputs": []
    },
    {
      "cell_type": "code",
      "source": [
        "# testing previous function\n",
        "\n",
        "for file in os.listdir(file_path):\n",
        "    if file[0:4] == 'IDSW':\n",
        "        #print(file)\n",
        "        i=int(file[5:7]) -1\n",
        "        i = str(i)\n",
        "        #print(i)"
      ],
      "metadata": {
        "id": "uqRdtOQS8Yr-"
      },
      "execution_count": null,
      "outputs": []
    }
  ]
}